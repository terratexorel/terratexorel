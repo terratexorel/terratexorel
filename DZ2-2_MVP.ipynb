{
 "cells": [
  {
   "cell_type": "code",
   "execution_count": 132,
   "id": "346eb42b-af22-4a49-8754-70bb1dff25ca",
   "metadata": {
    "scrolled": true
   },
   "outputs": [],
   "source": [
    "boys=['Петя','Ваня','Саша','Антон','Глеб']\n",
    "girls=['Яна','Ксения','Наталья','Алина','Снежанна']"
   ]
  },
  {
   "cell_type": "code",
   "execution_count": 138,
   "id": "0cbe22cf-93ee-4408-8b64-09f2c79ff86a",
   "metadata": {},
   "outputs": [],
   "source": [
    "sortB=sorted(boys)\n",
    "sortG=sorted(girls)\n",
    "pos=0"
   ]
  },
  {
   "cell_type": "code",
   "execution_count": 140,
   "id": "7886a648-0728-4fab-b957-a9648537a5df",
   "metadata": {},
   "outputs": [
    {
     "name": "stdout",
     "output_type": "stream",
     "text": [
      "Антон и Алина\n",
      "Ваня и Ксения\n",
      "Глеб и Наталья\n",
      "Петя и Снежанна\n",
      "Саша и Яна\n"
     ]
    }
   ],
   "source": [
    "if len(boys) == len (girls):\n",
    "    for i in range(len(boys)):\n",
    "        print(sortB[pos], \"и\",sortG[pos])\n",
    "        pos+=1\n",
    "elif len(boys) != len (girls):\n",
    "    print(\"Внимание, кто то может остаться без пары! \")"
   ]
  },
  {
   "cell_type": "code",
   "execution_count": null,
   "id": "f65176d3-d84e-4c08-8dde-daf4b99a593b",
   "metadata": {},
   "outputs": [],
   "source": []
  },
  {
   "cell_type": "code",
   "execution_count": null,
   "id": "e4f40017-79df-4cc3-9e1a-f7ba5dd81ea4",
   "metadata": {},
   "outputs": [],
   "source": []
  }
 ],
 "metadata": {
  "kernelspec": {
   "display_name": "Python 3 (ipykernel)",
   "language": "python",
   "name": "python3"
  },
  "language_info": {
   "codemirror_mode": {
    "name": "ipython",
    "version": 3
   },
   "file_extension": ".py",
   "mimetype": "text/x-python",
   "name": "python",
   "nbconvert_exporter": "python",
   "pygments_lexer": "ipython3",
   "version": "3.12.7"
  }
 },
 "nbformat": 4,
 "nbformat_minor": 5
}
