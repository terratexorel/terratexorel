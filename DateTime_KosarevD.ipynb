{
 "cells": [
  {
   "cell_type": "code",
   "execution_count": 17,
   "id": "4763fc57-c2f5-4825-a18a-20096c75dfab",
   "metadata": {},
   "outputs": [],
   "source": [
    "from datetime import timedelta\n",
    "from datetime import datetime"
   ]
  },
  {
   "cell_type": "code",
   "execution_count": 21,
   "id": "9be7b3e2-f39a-4517-bbd5-7fcdbb1f8b60",
   "metadata": {},
   "outputs": [],
   "source": [
    "#TheMoscowTimes = Wednesday, October 2, 2002\n",
    "#The Guardian - Friday, 11.10.13\n",
    "#Daily News - Thursday, 18 August 1977\n",
    "TheMoscowTimes = datetime.strptime(\"Wednesday, October 2, 2002\", \"%A, %B %d, %Y\")\n",
    "TheGuardian = datetime.strptime('Friday, 11.10.13', '%A, %d.%m.%y')\n",
    "DailyNews = datetime.strptime('Thursday, 18 August 1977', '%A, %d %B %Y')\n"
   ]
  },
  {
   "cell_type": "code",
   "execution_count": 23,
   "id": "d6ebb6ca-0572-4e71-a4e5-a040de5996fa",
   "metadata": {},
   "outputs": [
    {
     "data": {
      "text/plain": [
       "datetime.datetime(2002, 10, 2, 0, 0)"
      ]
     },
     "execution_count": 23,
     "metadata": {},
     "output_type": "execute_result"
    }
   ],
   "source": [
    "TheMoscowTimes"
   ]
  },
  {
   "cell_type": "code",
   "execution_count": 25,
   "id": "7e170c03-0bd7-47be-812d-ce285490129b",
   "metadata": {},
   "outputs": [
    {
     "data": {
      "text/plain": [
       "datetime.datetime(2013, 10, 11, 0, 0)"
      ]
     },
     "execution_count": 25,
     "metadata": {},
     "output_type": "execute_result"
    }
   ],
   "source": [
    "TheGuardian"
   ]
  },
  {
   "cell_type": "code",
   "execution_count": 27,
   "id": "4c4b743a-6ee3-4cda-9364-b5d661887e71",
   "metadata": {},
   "outputs": [
    {
     "data": {
      "text/plain": [
       "datetime.datetime(1977, 8, 18, 0, 0)"
      ]
     },
     "execution_count": 27,
     "metadata": {},
     "output_type": "execute_result"
    }
   ],
   "source": [
    "DailyNews"
   ]
  },
  {
   "cell_type": "code",
   "execution_count": null,
   "id": "a8dca320-2a4c-4a99-9a34-85cda9689369",
   "metadata": {},
   "outputs": [],
   "source": []
  }
 ],
 "metadata": {
  "kernelspec": {
   "display_name": "Python 3 (ipykernel)",
   "language": "python",
   "name": "python3"
  },
  "language_info": {
   "codemirror_mode": {
    "name": "ipython",
    "version": 3
   },
   "file_extension": ".py",
   "mimetype": "text/x-python",
   "name": "python",
   "nbconvert_exporter": "python",
   "pygments_lexer": "ipython3",
   "version": "3.12.7"
  }
 },
 "nbformat": 4,
 "nbformat_minor": 5
}
