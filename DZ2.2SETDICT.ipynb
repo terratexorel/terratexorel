{
 "cells": [
  {
   "cell_type": "code",
   "execution_count": 9,
   "id": "28254153-8a3a-4bcd-9a74-7e7e80ab8791",
   "metadata": {},
   "outputs": [],
   "source": [
    "ids = {'user1': [213, 213, 213, 15, 213],\n",
    "'user2': [54, 54, 119, 119, 119],\n",
    "'user3': [213, 98, 98, 35]}\n",
    "newset=[]"
   ]
  },
  {
   "cell_type": "code",
   "execution_count": 11,
   "id": "cbbd507d-f10e-4570-9312-a97fd3619472",
   "metadata": {},
   "outputs": [],
   "source": [
    "for value in ids.values():\n",
    "   newset.extend(value)"
   ]
  },
  {
   "cell_type": "code",
   "execution_count": 13,
   "id": "0432293b-baf7-4857-a101-334f2523a39a",
   "metadata": {},
   "outputs": [],
   "source": [
    "newset=set(newset)"
   ]
  },
  {
   "cell_type": "code",
   "execution_count": 15,
   "id": "5ae542b2-9ab4-4419-b34a-c430bbae0725",
   "metadata": {},
   "outputs": [
    {
     "name": "stdout",
     "output_type": "stream",
     "text": [
      "{98, 35, 15, 213, 54, 119}\n"
     ]
    }
   ],
   "source": [
    "print(newset)"
   ]
  },
  {
   "cell_type": "code",
   "execution_count": null,
   "id": "a35e5d2e-5994-4826-b12d-5a04b9c71426",
   "metadata": {},
   "outputs": [],
   "source": []
  }
 ],
 "metadata": {
  "kernelspec": {
   "display_name": "Python 3 (ipykernel)",
   "language": "python",
   "name": "python3"
  },
  "language_info": {
   "codemirror_mode": {
    "name": "ipython",
    "version": 3
   },
   "file_extension": ".py",
   "mimetype": "text/x-python",
   "name": "python",
   "nbconvert_exporter": "python",
   "pygments_lexer": "ipython3",
   "version": "3.12.7"
  }
 },
 "nbformat": 4,
 "nbformat_minor": 5
}
