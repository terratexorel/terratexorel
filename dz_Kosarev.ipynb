{
 "cells": [
  {
   "cell_type": "code",
   "execution_count": 139,
   "id": "e6a9a951-1fc1-4155-a727-a32f9d4e1f14",
   "metadata": {},
   "outputs": [
    {
     "name": "stdout",
     "output_type": "stream",
     "text": [
      "Введите первое целое число и нажмите Enter:\n"
     ]
    },
    {
     "name": "stdin",
     "output_type": "stream",
     "text": [
      " 1\n"
     ]
    },
    {
     "name": "stdout",
     "output_type": "stream",
     "text": [
      "Введите Второе целое число и нажмите Enter:\n"
     ]
    },
    {
     "name": "stdin",
     "output_type": "stream",
     "text": [
      " 10\n"
     ]
    }
   ],
   "source": [
    "try:\n",
    "    print(\"Введите первое целое число и нажмите Enter:\")\n",
    "    one=int(input())\n",
    "    print(\"Введите Второе целое число и нажмите Enter:\")\n",
    "    two=int(input())\n",
    "except:\n",
    "    print(\"число не целое\")\n"
   ]
  },
  {
   "cell_type": "code",
   "execution_count": 141,
   "id": "c68d786f-8657-46b9-8b84-5131b0ca371f",
   "metadata": {},
   "outputs": [],
   "source": [
    "if one==two:\n",
    "    print(\"Числа не должны быть равны\")\n",
    "if one>two:\n",
    "    one,two=two,one"
   ]
  },
  {
   "cell_type": "code",
   "execution_count": 143,
   "id": "df9a4ebe-8d85-47e8-bef1-ff06c5ef865e",
   "metadata": {},
   "outputs": [],
   "source": [
    "def summarization(*params):\n",
    "    summ=0\n",
    "    for index in range(one,two+1):\n",
    "        summ=summ+index\n",
    "    return summ\n",
    "    "
   ]
  },
  {
   "cell_type": "code",
   "execution_count": 145,
   "id": "89a0c74e-9a57-4eda-bb05-300e32d8ad06",
   "metadata": {},
   "outputs": [
    {
     "name": "stdout",
     "output_type": "stream",
     "text": [
      "Сумма всех элементов от  1 до  10 равна  55\n"
     ]
    }
   ],
   "source": [
    "print('Сумма всех элементов от ',one,'до ', two,'равна ', summarization(one,two))"
   ]
  },
  {
   "cell_type": "code",
   "execution_count": null,
   "id": "6630f5b9-6e43-42f5-8341-63d3abfd8a6f",
   "metadata": {},
   "outputs": [],
   "source": []
  }
 ],
 "metadata": {
  "kernelspec": {
   "display_name": "Python 3 (ipykernel)",
   "language": "python",
   "name": "python3"
  },
  "language_info": {
   "codemirror_mode": {
    "name": "ipython",
    "version": 3
   },
   "file_extension": ".py",
   "mimetype": "text/x-python",
   "name": "python",
   "nbconvert_exporter": "python",
   "pygments_lexer": "ipython3",
   "version": "3.12.7"
  }
 },
 "nbformat": 4,
 "nbformat_minor": 5
}
