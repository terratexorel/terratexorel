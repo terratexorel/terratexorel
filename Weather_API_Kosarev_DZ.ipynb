{
 "cells": [
  {
   "cell_type": "code",
   "execution_count": 23,
   "id": "e4354dd0-769c-4234-9309-99ac40e89989",
   "metadata": {},
   "outputs": [],
   "source": [
    "import requests,json"
   ]
  },
  {
   "cell_type": "code",
   "execution_count": 155,
   "id": "0da03ad5-a652-4f5e-96fa-fe4717084bdb",
   "metadata": {},
   "outputs": [
    {
     "name": "stdin",
     "output_type": "stream",
     "text": [
      "Введите название города: Санкт-Петербург\n"
     ]
    }
   ],
   "source": [
    "myapikey='3518cecd6726aae103812574da89a03e'\n",
    "url='https://api.openweathermap.org/data/2.5/weather?'\n",
    "city=input('Введите название города:')\n",
    "total = url  + \"&q=\" + city + \"&appid=\" + myapikey"
   ]
  },
  {
   "cell_type": "code",
   "execution_count": 157,
   "id": "f3260caf-249a-4179-8439-0ca42329ee5b",
   "metadata": {},
   "outputs": [
    {
     "name": "stdout",
     "output_type": "stream",
     "text": [
      "https://api.openweathermap.org/data/2.5/weather?&q=Санкт-Петербург&appid=3518cecd6726aae103812574da89a03e\n"
     ]
    }
   ],
   "source": [
    "print(total)"
   ]
  },
  {
   "cell_type": "code",
   "execution_count": 159,
   "id": "4ce8eb5b-ea1a-45cc-b459-c0e394c9f560",
   "metadata": {},
   "outputs": [
    {
     "name": "stdout",
     "output_type": "stream",
     "text": [
      "Температура в сейчас Санкт-Петербург 2.8 градусов Цельсия\n"
     ]
    }
   ],
   "source": [
    "r=requests.get(total)\n",
    "a=(r.json())\n",
    "kelvin=(a['main']['temp'])\n",
    "cel=kelvin-273.15\n",
    "print('Температура в сейчас', city, round(cel,1),'градусов Цельсия')"
   ]
  },
  {
   "cell_type": "raw",
   "id": "752320d3-d586-4307-a858-0f53ed6b004b",
   "metadata": {},
   "source": []
  },
  {
   "cell_type": "code",
   "execution_count": null,
   "id": "59ce05b0-47f5-4a3e-8dcd-4f24f642da33",
   "metadata": {},
   "outputs": [],
   "source": []
  },
  {
   "cell_type": "code",
   "execution_count": null,
   "id": "544dd3e8-af9d-4647-91ac-23c95bc872e7",
   "metadata": {},
   "outputs": [],
   "source": []
  }
 ],
 "metadata": {
  "kernelspec": {
   "display_name": "Python 3 (ipykernel)",
   "language": "python",
   "name": "python3"
  },
  "language_info": {
   "codemirror_mode": {
    "name": "ipython",
    "version": 3
   },
   "file_extension": ".py",
   "mimetype": "text/x-python",
   "name": "python",
   "nbconvert_exporter": "python",
   "pygments_lexer": "ipython3",
   "version": "3.12.7"
  }
 },
 "nbformat": 4,
 "nbformat_minor": 5
}
