{
 "cells": [
  {
   "cell_type": "code",
   "execution_count": 50,
   "id": "87265fb7-1de1-433f-b0e7-83995d3cd09b",
   "metadata": {},
   "outputs": [],
   "source": [
    "import os"
   ]
  },
  {
   "cell_type": "code",
   "execution_count": 52,
   "id": "f4a15ee1-ed66-46d9-b59c-efa7412b8d24",
   "metadata": {},
   "outputs": [
    {
     "name": "stdout",
     "output_type": "stream",
     "text": [
      "C:\\Users\\Silverio Sindino\\downloads\n"
     ]
    }
   ],
   "source": [
    "print(os.getcwd())"
   ]
  },
  {
   "cell_type": "code",
   "execution_count": 54,
   "id": "a4b1b713-8549-469d-b1d7-63d7210a803e",
   "metadata": {},
   "outputs": [],
   "source": [
    "os.chdir(\"C:\\\\Users\\\\Silverio Sindino\\\\downloads\")"
   ]
  },
  {
   "cell_type": "code",
   "execution_count": 62,
   "id": "0f255d73-874a-44c2-841e-2500f09e8d4e",
   "metadata": {},
   "outputs": [
    {
     "name": "stdout",
     "output_type": "stream",
     "text": [
      "C:\\Users\\Silverio Sindino\\downloads\n"
     ]
    }
   ],
   "source": [
    "print(os.getcwd())"
   ]
  },
  {
   "cell_type": "code",
   "execution_count": 68,
   "id": "e75f22c2-6c7d-4dc2-acf0-862ac86216d2",
   "metadata": {},
   "outputs": [
    {
     "name": "stdout",
     "output_type": "stream",
     "text": [
      "{'b71f36a5e4': 'Продукты'}\n"
     ]
    }
   ],
   "source": [
    "index = 0\n",
    "dict1 = {}\n",
    "with open('purchase_log.txt','r', encoding = 'utf-8') as file:\n",
    "    for line in file:\n",
    "        line = line.strip()        \n",
    "        dict_ = json.loads(line)         \n",
    "        for x in dict_.items():\n",
    "            key = dict_['user_id']\n",
    "            value = dict_['category']\n",
    "            dict1 = {key : value}                  \n",
    "        index +=1\n",
    "        if index > 10:\n",
    "            break      \n",
    "print(dict1)"
   ]
  },
  {
   "cell_type": "code",
   "execution_count": null,
   "id": "5d85c2a3-7498-49f6-8157-80dcd35ffe2d",
   "metadata": {},
   "outputs": [],
   "source": []
  }
 ],
 "metadata": {
  "kernelspec": {
   "display_name": "Python 3 (ipykernel)",
   "language": "python",
   "name": "python3"
  },
  "language_info": {
   "codemirror_mode": {
    "name": "ipython",
    "version": 3
   },
   "file_extension": ".py",
   "mimetype": "text/x-python",
   "name": "python",
   "nbconvert_exporter": "python",
   "pygments_lexer": "ipython3",
   "version": "3.12.7"
  }
 },
 "nbformat": 4,
 "nbformat_minor": 5
}
