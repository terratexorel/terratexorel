{
 "cells": [
  {
   "cell_type": "code",
   "execution_count": 129,
   "id": "363d111c-f845-4e8a-b3d3-80053c6ff0fa",
   "metadata": {},
   "outputs": [],
   "source": [
    "stroka='Это случайная строка текста для домашнего задания по Python!'"
   ]
  },
  {
   "cell_type": "code",
   "execution_count": 131,
   "id": "f2d94096-c83e-4e5d-a7a2-4fc5ea34f9d4",
   "metadata": {},
   "outputs": [],
   "source": [
    "def trim_and_repeat(stroka,offset=0,repetitions=1):\n",
    "    return stroka[offset:] * repetitions"
   ]
  },
  {
   "cell_type": "code",
   "execution_count": 133,
   "id": "745190a0-6ea5-4422-92b5-881decd84318",
   "metadata": {},
   "outputs": [
    {
     "name": "stdout",
     "output_type": "stream",
     "text": [
      "Это случайная строка текста для домашнего задания по Python!\n"
     ]
    }
   ],
   "source": [
    "print(trim_and_repeat(stroka))"
   ]
  },
  {
   "cell_type": "code",
   "execution_count": 107,
   "id": "d608e15f-2b6d-4597-ba15-9c8954310f4d",
   "metadata": {},
   "outputs": [],
   "source": []
  },
  {
   "cell_type": "code",
   "execution_count": null,
   "id": "4a62836e-b6b1-42be-9b0c-922130f62751",
   "metadata": {},
   "outputs": [],
   "source": []
  },
  {
   "cell_type": "code",
   "execution_count": null,
   "id": "1ed95745-8548-4e1a-8889-9bc8d01f11a7",
   "metadata": {},
   "outputs": [],
   "source": []
  }
 ],
 "metadata": {
  "kernelspec": {
   "display_name": "Python 3 (ipykernel)",
   "language": "python",
   "name": "python3"
  },
  "language_info": {
   "codemirror_mode": {
    "name": "ipython",
    "version": 3
   },
   "file_extension": ".py",
   "mimetype": "text/x-python",
   "name": "python",
   "nbconvert_exporter": "python",
   "pygments_lexer": "ipython3",
   "version": "3.12.7"
  }
 },
 "nbformat": 4,
 "nbformat_minor": 5
}
