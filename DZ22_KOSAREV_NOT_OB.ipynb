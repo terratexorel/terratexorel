{
 "cells": [
  {
   "cell_type": "code",
   "execution_count": 165,
   "id": "64eab630-0e5b-477b-a0b2-6bbab8a1e32a",
   "metadata": {},
   "outputs": [],
   "source": [
    "queries = [\n",
    "'смотреть сериалы онлайн',\n",
    "'новости спорта',\n",
    "'афиша кино',\n",
    "'курс доллара',\n",
    "'сериалы этим летом',\n",
    "'курс по питону',\n",
    "'сериалы про спорт',\n",
    "]\n"
   ]
  },
  {
   "cell_type": "code",
   "execution_count": 167,
   "id": "da000e37-ad70-4df3-9809-4d3d75e345bf",
   "metadata": {},
   "outputs": [],
   "source": [
    "dict1={}"
   ]
  },
  {
   "cell_type": "code",
   "execution_count": 169,
   "id": "e578639d-0398-4d07-af49-ac64ba5356bc",
   "metadata": {},
   "outputs": [],
   "source": [
    "for count in queries:\n",
    "    wordscount = count.split()\n",
    "    #print(len(wordscount))\n",
    "    if len(wordscount) in dict1.keys(): \n",
    "        dict1[len(wordscount)] += 1\n",
    "        #print(dict1)\n",
    "    else:\n",
    "        dict1.update({len(wordscount): 1})\n",
    "        #print(dict1)"
   ]
  },
  {
   "cell_type": "code",
   "execution_count": 171,
   "id": "42e0305f-5969-4058-9489-4ddf75195bc0",
   "metadata": {},
   "outputs": [
    {
     "name": "stdout",
     "output_type": "stream",
     "text": [
      "Поисковых запросов из 2 слова: 57.14%\n",
      "Поисковых запросов из 2 слова: 42.86%\n"
     ]
    }
   ],
   "source": [
    "for key, v in dict1.items():\n",
    "    per = round((v / len(queries)) * 100, 2)\n",
    "    print(f'Поисковых запросов из {key} слова: {per}%')"
   ]
  },
  {
   "cell_type": "code",
   "execution_count": null,
   "id": "c5136063-0678-4f29-9f95-e5219fa436e5",
   "metadata": {},
   "outputs": [],
   "source": []
  },
  {
   "cell_type": "code",
   "execution_count": null,
   "id": "f0e55a42-177c-43ff-8263-f7b6a6197d65",
   "metadata": {},
   "outputs": [],
   "source": []
  }
 ],
 "metadata": {
  "kernelspec": {
   "display_name": "Python 3 (ipykernel)",
   "language": "python",
   "name": "python3"
  },
  "language_info": {
   "codemirror_mode": {
    "name": "ipython",
    "version": 3
   },
   "file_extension": ".py",
   "mimetype": "text/x-python",
   "name": "python",
   "nbconvert_exporter": "python",
   "pygments_lexer": "ipython3",
   "version": "3.12.7"
  }
 },
 "nbformat": 4,
 "nbformat_minor": 5
}
