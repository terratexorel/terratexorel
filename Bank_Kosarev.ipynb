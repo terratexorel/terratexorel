{
 "cells": [
  {
   "cell_type": "code",
   "execution_count": 782,
   "id": "5725db3b-378c-4e0b-ab2c-31a4af52e2f0",
   "metadata": {},
   "outputs": [],
   "source": [
    "class Account:\n",
    "    def __init__(self, name, accountN, balance):\n",
    "        self.name = name\n",
    "        self.accountN = accountN\n",
    "        self.balance = balance\n",
    "    def printbalance(self):\n",
    "        print(self.balance)\n",
    "    def debit(self, amount):\n",
    "        self.balance=self.balance+amount\n",
    "    def withdrawal(self,amount):\n",
    "        if amount<=self.balance:\n",
    "            self.balance-=amount\n",
    "        else:\n",
    "            print('Денег не достаточно для Вывода!!!!')\n",
    "    def Save_To_File_Balance(self):\n",
    "        with open('file.txt', 'w', encoding='utf-8') as f:\n",
    "            pos=self.name, self.balance\n",
    "            data = str(pos)\n",
    "            f.write(data)\n",
    "            f.close()\n",
    "    def load_Balance(self,RequestName):\n",
    "        with open('file.txt', 'r', encoding='utf-8') as f:           \n",
    "            data = f.read().splitlines()                     \n",
    "            return data\n",
    "        "
   ]
  },
  {
   "cell_type": "code",
   "execution_count": 784,
   "id": "ee015892-5008-4601-8646-65c85eab4afa",
   "metadata": {},
   "outputs": [],
   "source": [
    "MyAcc=Account(name='Kosarev', accountN=1, balance=0)\n",
    "#print(MyAcc.name, MyAcc.accountN, MyAcc.balance)"
   ]
  },
  {
   "cell_type": "code",
   "execution_count": 786,
   "id": "a3cbd8be-7c03-46d8-a53d-4d6a678aafff",
   "metadata": {},
   "outputs": [
    {
     "name": "stdout",
     "output_type": "stream",
     "text": [
      "0\n"
     ]
    }
   ],
   "source": [
    "MyAcc.printbalance()"
   ]
  },
  {
   "cell_type": "code",
   "execution_count": 788,
   "id": "7cd5b78a-703f-40dd-a52c-34496253f507",
   "metadata": {},
   "outputs": [],
   "source": [
    "MyAcc.debit(100)"
   ]
  },
  {
   "cell_type": "code",
   "execution_count": 790,
   "id": "5b6087ee-1532-4d2e-8c46-9f284595c426",
   "metadata": {},
   "outputs": [],
   "source": [
    "MyAcc.withdrawal(45)"
   ]
  },
  {
   "cell_type": "code",
   "execution_count": 792,
   "id": "81bd0b83-b2b0-44eb-b355-dfb3ac5128d8",
   "metadata": {},
   "outputs": [
    {
     "name": "stdout",
     "output_type": "stream",
     "text": [
      "55\n"
     ]
    }
   ],
   "source": [
    "MyAcc.printbalance()"
   ]
  },
  {
   "cell_type": "code",
   "execution_count": 794,
   "id": "97902be0-0a4e-4eb7-a97b-cf7f45b37a64",
   "metadata": {},
   "outputs": [],
   "source": [
    "MyAcc.Save_To_File_Balance()"
   ]
  },
  {
   "cell_type": "code",
   "execution_count": 796,
   "id": "1a19e1ff-82c8-463b-9f80-439121bd502a",
   "metadata": {},
   "outputs": [
    {
     "name": "stdin",
     "output_type": "stream",
     "text": [
      " Kosarev\n"
     ]
    },
    {
     "data": {
      "text/plain": [
       "[\"('Kosarev', 55)\"]"
      ]
     },
     "execution_count": 796,
     "metadata": {},
     "output_type": "execute_result"
    }
   ],
   "source": [
    "RN=input()\n",
    "MyAcc.load_Balance(RN)"
   ]
  },
  {
   "cell_type": "code",
   "execution_count": null,
   "id": "397955f6-4ded-486f-b50e-af0f113e36a4",
   "metadata": {},
   "outputs": [],
   "source": []
  }
 ],
 "metadata": {
  "kernelspec": {
   "display_name": "Python 3 (ipykernel)",
   "language": "python",
   "name": "python3"
  },
  "language_info": {
   "codemirror_mode": {
    "name": "ipython",
    "version": 3
   },
   "file_extension": ".py",
   "mimetype": "text/x-python",
   "name": "python",
   "nbconvert_exporter": "python",
   "pygments_lexer": "ipython3",
   "version": "3.12.7"
  }
 },
 "nbformat": 4,
 "nbformat_minor": 5
}
