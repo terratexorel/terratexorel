{
 "cells": [
  {
   "cell_type": "code",
   "execution_count": 5,
   "id": "271953f1-7d61-48fd-a628-22561be2e8be",
   "metadata": {},
   "outputs": [],
   "source": [
    "variable=\"test\"\n",
    "len1=len(variable)"
   ]
  },
  {
   "cell_type": "code",
   "execution_count": 7,
   "id": "f8e8abed-c537-4273-ae84-1e9d114b8540",
   "metadata": {},
   "outputs": [
    {
     "name": "stdout",
     "output_type": "stream",
     "text": [
      "es\n"
     ]
    }
   ],
   "source": [
    "if len(variable) % 2 ==0:\n",
    "    print(variable[(len1//2)-1:len1//2+1])\n",
    "elif len(variable) %2 !=0:\n",
    "    print(variable[(len1//2)])\n",
    "    "
   ]
  },
  {
   "cell_type": "code",
   "execution_count": null,
   "id": "7a1d5735-87e6-40eb-8d08-131115eb0acd",
   "metadata": {},
   "outputs": [],
   "source": []
  },
  {
   "cell_type": "code",
   "execution_count": null,
   "id": "112b6a2f-2e9a-47ea-a0f1-b18f5c7cb989",
   "metadata": {},
   "outputs": [],
   "source": []
  }
 ],
 "metadata": {
  "kernelspec": {
   "display_name": "Python 3 (ipykernel)",
   "language": "python",
   "name": "python3"
  },
  "language_info": {
   "codemirror_mode": {
    "name": "ipython",
    "version": 3
   },
   "file_extension": ".py",
   "mimetype": "text/x-python",
   "name": "python",
   "nbconvert_exporter": "python",
   "pygments_lexer": "ipython3",
   "version": "3.12.7"
  }
 },
 "nbformat": 4,
 "nbformat_minor": 5
}
